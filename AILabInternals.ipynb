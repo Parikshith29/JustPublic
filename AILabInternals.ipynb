{
  "nbformat": 4,
  "nbformat_minor": 0,
  "metadata": {
    "colab": {
      "provenance": [],
      "authorship_tag": "ABX9TyN+n9rcJpB2jual28TIlrN1",
      "include_colab_link": true
    },
    "kernelspec": {
      "name": "python3",
      "display_name": "Python 3"
    },
    "language_info": {
      "name": "python"
    }
  },
  "cells": [
    {
      "cell_type": "markdown",
      "metadata": {
        "id": "view-in-github",
        "colab_type": "text"
      },
      "source": [
        "<a href=\"https://colab.research.google.com/github/Parikshith29/JustPublic/blob/main/AILabInternals.ipynb\" target=\"_parent\"><img src=\"https://colab.research.google.com/assets/colab-badge.svg\" alt=\"Open In Colab\"/></a>"
      ]
    },
    {
      "cell_type": "code",
      "source": [
        "\n",
        "def is_safe(board, row, col, n):\n",
        "    # Check if there is a queen in the same column\n",
        "    for i in range(row):\n",
        "        if board[i][col] == 1:\n",
        "            return False\n",
        "\n",
        "    # Check upper-left diagonal\n",
        "    for i, j in zip(range(row, -1, -1), range(col, -1, -1)):\n",
        "        if board[i][j] == 1:\n",
        "            return False\n",
        "\n",
        "    # Check upper-right diagonal\n",
        "    for i, j in zip(range(row, -1, -1), range(col, n)):\n",
        "        if board[i][j] == 1:\n",
        "            return False\n",
        "\n",
        "    return True\n",
        "\n",
        "\n",
        "def solve_n_queens(board, row, n):\n",
        "    if row == n:\n",
        "        return True\n",
        "\n",
        "    for col in range(n):\n",
        "        if is_safe(board, row, col, n):\n",
        "            board[row][col] = 1\n",
        "            if solve_n_queens(board, row + 1, n):\n",
        "                return True\n",
        "            board[row][col] = 0\n",
        "\n",
        "    return False\n",
        "\n",
        "\n",
        "def print_board(board):\n",
        "    for row in board:\n",
        "        print(' '.join(['Q' if cell == 1 else '.' for cell in row]))\n",
        "\n",
        "\n",
        "def n_queens(n):\n",
        "    board = [[0 for _ in range(n)] for _ in range(n)]\n",
        "\n",
        "    # Place the first queen in the first row, and start backtracking\n",
        "    if solve_n_queens(board, 0, n):\n",
        "        print_board(board)\n",
        "    else:\n",
        "        print(\"No solution found.\")\n",
        "\n",
        "\n",
        "# Example usage:\n",
        "n_queens(8)"
      ],
      "metadata": {
        "colab": {
          "base_uri": "https://localhost:8080/"
        },
        "id": "2_rZAaFwXTv-",
        "outputId": "b3a2e59e-375b-4a7b-ae20-7da53e0dc076"
      },
      "execution_count": null,
      "outputs": [
        {
          "output_type": "stream",
          "name": "stdout",
          "text": [
            "Q . . . . . . .\n",
            ". . . . Q . . .\n",
            ". . . . . . . Q\n",
            ". . . . . Q . .\n",
            ". . Q . . . . .\n",
            ". . . . . . Q .\n",
            ". Q . . . . . .\n",
            ". . . Q . . . .\n"
          ]
        }
      ]
    },
    {
      "cell_type": "code",
      "source": [
        "\n",
        "def print_board(board):\n",
        "  print('-------------')\n",
        "  for i in range(3):\n",
        "    print('|', end=' ')\n",
        "    for j in range(3):\n",
        "      print(board[i*3+j], end=' | ')\n",
        "    print('\\n-------------')\n",
        "\n",
        "def check_win(board, player):\n",
        "  win_conditions = [(0, 1, 2), (3, 4, 5), (6, 7, 8),  # horizontal\n",
        "                   (0, 3, 6), (1, 4, 7), (2, 5, 8),  # vertical\n",
        "                   (0, 4, 8), (2, 4, 6)]           # diagonal\n",
        "  for i in win_conditions:\n",
        "    if board[i[0]] == board[i[1]] == board[i[2]] == player:\n",
        "      return True\n",
        "  return False\n",
        "\n",
        "def is_board_full(board):\n",
        "  return ' ' not in board\n",
        "\n",
        "def tic_tac_toe():\n",
        "  board = [' '] * 9\n",
        "  players = ['X', 'O']\n",
        "  current_player = 0\n",
        "\n",
        "  while True:\n",
        "    print_board(board)\n",
        "    move = int(input(f\"Player {players[current_player]}, enter your move (1-9): \")) - 1\n",
        "\n",
        "    if not (0 <= move <= 8) or board[move] != ' ':\n",
        "      print(\"Invalid move. Try again.\")\n",
        "      continue\n",
        "\n",
        "    board[move] = players[current_player]\n",
        "\n",
        "    if check_win(board, players[current_player]):\n",
        "      print_board(board)\n",
        "      print(f\"Player {players[current_player]} wins!\")\n",
        "      break\n",
        "    elif is_board_full(board):\n",
        "      print_board(board)\n",
        "      print(\"It's a tie!\")\n",
        "      break\n",
        "\n",
        "    current_player = (current_player + 1) % 2\n",
        "\n",
        "if __name__ == \"__main__\":\n",
        "  tic_tac_toe()"
      ],
      "metadata": {
        "colab": {
          "base_uri": "https://localhost:8080/"
        },
        "id": "y0ORuPd9YB-I",
        "outputId": "8bf6f9ec-2c87-4605-fcd3-dfe9b51e8099"
      },
      "execution_count": null,
      "outputs": [
        {
          "output_type": "stream",
          "name": "stdout",
          "text": [
            "-------------\n",
            "|   |   |   | \n",
            "-------------\n",
            "|   |   |   | \n",
            "-------------\n",
            "|   |   |   | \n",
            "-------------\n",
            "Player X, enter your move (1-9): 5\n",
            "-------------\n",
            "|   |   |   | \n",
            "-------------\n",
            "|   | X |   | \n",
            "-------------\n",
            "|   |   |   | \n",
            "-------------\n",
            "Player O, enter your move (1-9): 3\n",
            "-------------\n",
            "|   |   | O | \n",
            "-------------\n",
            "|   | X |   | \n",
            "-------------\n",
            "|   |   |   | \n",
            "-------------\n",
            "Player X, enter your move (1-9): 9\n",
            "-------------\n",
            "|   |   | O | \n",
            "-------------\n",
            "|   | X |   | \n",
            "-------------\n",
            "|   |   | X | \n",
            "-------------\n",
            "Player O, enter your move (1-9): 2\n",
            "-------------\n",
            "|   | O | O | \n",
            "-------------\n",
            "|   | X |   | \n",
            "-------------\n",
            "|   |   | X | \n",
            "-------------\n",
            "Player X, enter your move (1-9): 1\n",
            "-------------\n",
            "| X | O | O | \n",
            "-------------\n",
            "|   | X |   | \n",
            "-------------\n",
            "|   |   | X | \n",
            "-------------\n",
            "Player X wins!\n"
          ]
        }
      ]
    },
    {
      "cell_type": "code",
      "source": [
        "import sys\n",
        "\n",
        "def nearest_neighbor_tsp(distances):\n",
        "    num_cities = len(distances)\n",
        "    tour = [0]\n",
        "    visited = set([0])\n",
        "    current_city = 0\n",
        "    total_distance = 0\n",
        "\n",
        "    while len(visited) < num_cities:\n",
        "        nearest_city = None\n",
        "        min_distance = sys.maxsize\n",
        "\n",
        "        for next_city in range(num_cities):\n",
        "            if next_city not in visited and distances[current_city][next_city] < min_distance:\n",
        "                nearest_city = next_city\n",
        "                min_distance = distances[current_city][next_city]\n",
        "\n",
        "        tour.append(nearest_city)\n",
        "        visited.add(nearest_city)\n",
        "        total_distance += min_distance\n",
        "        current_city = nearest_city\n",
        "\n",
        "    tour.append(0)\n",
        "    total_distance += distances[current_city][0]\n",
        "\n",
        "    return tour, total_distance\n",
        "\n",
        "if __name__ == \"__main__\":\n",
        "    distances = [\n",
        "        [0, 4, 8, 9, 12],\n",
        "        [4, 0, 6, 8, 9],\n",
        "        [8, 6, 0, 10, 11],\n",
        "        [9, 8, 10, 0, 7],\n",
        "        [12, 9, 11, 7, 0]\n",
        "    ]\n",
        "\n",
        "    tour, total_distance = nearest_neighbor_tsp(distances)\n",
        "\n",
        "    print(\"Nearest Neighbor TSP Tour:\", tour)\n",
        "    print(\"Total Distance:\", total_distance)"
      ],
      "metadata": {
        "colab": {
          "base_uri": "https://localhost:8080/"
        },
        "id": "_gt3DALHbrOh",
        "outputId": "ab29efc1-02b5-4f5c-e3ef-3e30802000c7"
      },
      "execution_count": null,
      "outputs": [
        {
          "output_type": "stream",
          "name": "stdout",
          "text": [
            "Nearest Neighbor TSP Tour: [0, 1, 2, 3, 4, 0]\n",
            "Total Distance: 39\n"
          ]
        }
      ]
    },
    {
      "cell_type": "code",
      "source": [
        "def forward_chaining(rules, facts, goal):\n",
        "    inferred_facts = set(facts)\n",
        "    new_facts = True\n",
        "\n",
        "    while new_facts:\n",
        "        new_facts = False\n",
        "\n",
        "        for rule in rules:\n",
        "            condition, result = rule\n",
        "\n",
        "            if all(cond in inferred_facts for cond in condition) and result not in inferred_facts:\n",
        "                inferred_facts.add(result)\n",
        "                new_facts = True\n",
        "\n",
        "            if result == goal:\n",
        "                return True\n",
        "\n",
        "    return False\n",
        "\n",
        "def backward_chaining(rules, facts, goal):\n",
        "    def ask(query):\n",
        "        if query in facts:\n",
        "            return True\n",
        "\n",
        "        for rule in rules:\n",
        "            condition, result = rule\n",
        "            if result == query and all(ask(cond) for cond in condition):\n",
        "                return True\n",
        "\n",
        "        return False\n",
        "\n",
        "    return ask(goal)\n",
        "\n",
        "rules = [\n",
        "    (['hair', 'live young'], 'mammal'),\n",
        "    (['feathers', 'fly'], 'bird')\n",
        "]\n",
        "\n",
        "facts = ['hair', 'live young']\n",
        "goal = 'mammal'\n",
        "is_mammal = forward_chaining(rules, facts, goal)\n",
        "\n",
        "if is_mammal:\n",
        "    print(\"The cat is classified as a mammal.\")\n",
        "else:\n",
        "    print(\"The cat is not classified as a mammal.\")\n",
        "\n",
        "facts = ['feathers', 'fly']\n",
        "goal = 'bird'\n",
        "is_bird = backward_chaining(rules, facts, goal)\n",
        "\n",
        "if is_bird:\n",
        "    print(\"The pigeon is classified as a bird.\")\n",
        "else:\n",
        "    print(\"The pigeon is not classified as a bird.\")"
      ],
      "metadata": {
        "colab": {
          "base_uri": "https://localhost:8080/"
        },
        "id": "8gHQLL5wcwu4",
        "outputId": "1d5e44c9-2b86-4fef-a0be-b565fd3d38b1"
      },
      "execution_count": null,
      "outputs": [
        {
          "output_type": "stream",
          "name": "stdout",
          "text": [
            "The cat is classified as a mammal.\n",
            "The pigeon is classified as a bird.\n"
          ]
        }
      ]
    },
    {
      "cell_type": "code",
      "source": [
        "import matplotlib.pyplot as plt\n",
        "\n",
        "def a_star(graph, start, stop):\n",
        "    open_set = {start}\n",
        "    closed_set = set()\n",
        "    g = {start: 0}\n",
        "    parents = {start: start}\n",
        "\n",
        "    while open_set:\n",
        "        n = min(open_set, key=lambda x: g[x] + heuristic(x))\n",
        "\n",
        "        if n == stop or graph[n] is None:\n",
        "            break\n",
        "\n",
        "        for m, weight in graph[n]:\n",
        "            if m not in open_set and m not in closed_set:\n",
        "                open_set.add(m)\n",
        "                parents[m] = n\n",
        "                g[m] = g[n] + weight\n",
        "            elif g[m] > g[n] + weight:\n",
        "                g[m] = g[n] + weight\n",
        "                parents[m] = n\n",
        "                if m in closed_set:\n",
        "                    closed_set.remove(m)\n",
        "                    open_set.add(m)\n",
        "\n",
        "        open_set.remove(n)\n",
        "        closed_set.add(n)\n",
        "\n",
        "    else:\n",
        "        print('Path does not exist!')\n",
        "        return None\n",
        "\n",
        "    path = []\n",
        "    while n != start:\n",
        "        path.append(n)\n",
        "        n = parents[n]\n",
        "\n",
        "    path.append(start)\n",
        "    path.reverse()\n",
        "    print('Path found:', path)\n",
        "    return path\n",
        "\n",
        "def heuristic(n):\n",
        "    H_dist = {\n",
        "        'S': 14,\n",
        "        'B': 12,\n",
        "        'C': 11,\n",
        "        'D': 6,\n",
        "        'E': 4,\n",
        "        'F': 11,\n",
        "        'G': 0\n",
        "    }\n",
        "    return H_dist[n]\n",
        "\n",
        "graph = {\n",
        "    'S': [('B', 4), ('C', 3)],\n",
        "    'B': [('E', 12), ('F', 11)],\n",
        "    'C': [('D', 7), ('E', 10)],\n",
        "    'D': [('E', 2)],\n",
        "    'E': [('G', 5)],\n",
        "    'F': [('G', 16)]\n",
        "}\n",
        "\n",
        "start = input(\"Enter start node: \")\n",
        "stop = input(\"Enter stop node: \")\n",
        "\n",
        "path = a_star(graph, start, stop)\n",
        "\n",
        "if path:\n",
        "    print(\"Path:\", path)\n",
        "    plt.plot(path)\n",
        "    plt.show()"
      ],
      "metadata": {
        "colab": {
          "base_uri": "https://localhost:8080/",
          "height": 345
        },
        "id": "NpYiaw0iegt1",
        "outputId": "135fcdb3-f8c7-477e-8117-0bbbcb115801"
      },
      "execution_count": null,
      "outputs": [
        {
          "output_type": "stream",
          "name": "stdout",
          "text": [
            "Enter start node: S\n",
            "Enter stop node: G\n",
            "Path found: ['S', 'C', 'D', 'E', 'G']\n",
            "Path: ['S', 'C', 'D', 'E', 'G']\n"
          ]
        },
        {
          "output_type": "display_data",
          "data": {
            "text/plain": [
              "<Figure size 640x480 with 1 Axes>"
            ],
            "image/png": "[encoded data removed]"
          },
          "metadata": {}
        }
      ]
    }
  ]
}